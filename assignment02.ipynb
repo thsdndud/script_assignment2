{
 "cells": [
  {
   "cell_type": "code",
   "execution_count": 6,
   "metadata": {},
   "outputs": [
    {
     "name": "stdout",
     "output_type": "stream",
     "text": [
      "4\n",
      "1\n",
      "2\n",
      "2\n",
      "1\n",
      "3\n"
     ]
    }
   ],
   "source": [
    "print(1 and 2 and 3 and 4)\n",
    "\n",
    "print(1 or 2 or 3 or 4)\n",
    "\n",
    "print(1 and 2 or 3 and 4)\n",
    "\n",
    "print((1 and 2) or (3 and 4))\n",
    "\n",
    "print(1 or 2and 3 or 4)\n",
    "\n",
    "print((1 or 2) and (3 or 4))"
   ]
  },
  {
   "cell_type": "markdown",
   "metadata": {},
   "source": [
    "1 and 2 and 3 and 4<br/>\n",
    ": print 했을 때 and 연산자는 두 수 중 오른쪽 수를 출력한다. 따라서 출력결과는 가장 오른쪽에 있는 4가 출력된다.\n",
    "\n",
    "1 or 2 or 3 or 4<br/>\n",
    ": print 했을 때 or 연산자는 두 수 중 왼쪽 수를 출력한다. 따라서 출력결과는 가장 왼쪽에 있는 1이 출력된다.\n",
    "\n",
    "1 and 2 or 3 and 4<br/>\n",
    ": and 와 or 중 and가 우선순위에 있으므로 and 먼저 계산한다. 순서와 출력결과는 1 and 2 에서 2, 3 and 4 에서 4, 2 or 4에서 2가 출력된다.\n",
    "\n",
    "(1 and 2) or (3 and 4)<br/>\n",
    ": 앞에서부터 계산하지만 괄호가 우선이기 때문에 순서와 출력결과는 1 and 2에서 2, 3 and 4에서 4, 2 or 4 에서 2가 출력된다.\n",
    "\n",
    "1 or 2 and 3 or 4<br/>\n",
    ": and 와 or 중 and가 우선순위에 있으므로 and 먼저 계산한다. 순서와 출력결과는 2 and 3에서 3, 1 or 3 에서 1, 1 or 4에서 1이 출력된다.\n",
    "\n",
    "(1 or 2) and (3 or 4)<br/>\n",
    ": and 부터 계산하지만 괄호가 우선이기 때문에 순서와 출력결과는 1 or 2에서 1, 3 or 4에서 3, 1 and 3 에서 3이 출력된다."
   ]
  },
  {
   "cell_type": "code",
   "execution_count": null,
   "metadata": {},
   "outputs": [],
   "source": [
    "def div_path(Path):\n",
    "    Path = (Path[::-1])\n",
    "    FirstSlash = Path.find('/')\n",
    "    FileName = Path[:FirstSlash]\n",
    "    FileName = FileName[::-1]\n",
    "    Derect = Path[:FirstSlash:-1]\n",
    "    Path = (\"['\" + Derect + \"', '\" + FileName + \"']\")\n",
    "    return Path\n",
    "\n",
    "str = input(\"경로를 입력하세요: \")\n",
    "print(div_path(str))"
   ]
  },
  {
   "cell_type": "markdown",
   "metadata": {},
   "source": [
    "**div_path**는 인자로 문자열을 받는다. 이 문자열을 Path라고 한다.<br/>\n",
    "먼저 Path 문자열을 거꾸로 뒤집는다. 그 다음 앞에서부터 첫번째 /의 위치를 찾는다.<br/>\n",
    "문자열을 뒤집었기 때문에 첫번째로 찾은 /는 처음 입력받은 Path의 마지막 /이다.<br/>\n",
    "슬라이싱을 이용해 Path의 첫번째 / 의 위치 전까지를 잘라서 FileName에 넣고 뒤집어준다.<br/>\n",
    "슬라이싱을 이용해 Path를 뒤집고 맨 앞부터 첫번째 /의 위치까지를 잘라서 Derect에 넣는다.<br/>\n",
    "FileName은 파일명, Derect는 디렉토리를 의미한다.<br/>\n",
    "이제 Derct와 FileName을 예시와 같이 출력하기 위해 정리해주고 Path에 넣는다.<br/>\n",
    "Path를 반환한다.\n",
    "\n",
    "**메인 몸체**에선 경로를 입력받고 입력받은 경로를 div_path에 넣어준 뒤 div_path를 출력한다."
   ]
  },
  {
   "cell_type": "code",
   "execution_count": 24,
   "metadata": {},
   "outputs": [
    {
     "name": "stdout",
     "output_type": "stream",
     "text": [
      "1 2 3 4 5\n",
      "2 3 4 5 6\n",
      "[1, 2, 3, 4, 5, 6]\n"
     ]
    }
   ],
   "source": [
    "def list_union(a,b):\n",
    "    c = []\n",
    "    for i in range(len(a)):\n",
    "        if (a[i] in b):\n",
    "            c.append(i)\n",
    "    c.reverse()\n",
    "    for i in c:\n",
    "        del a[i]\n",
    "    c = a + b\n",
    "    c.sort()\n",
    "    return c\n",
    "    \n",
    "a = list(map(int, input().split()))\n",
    "b = list(map(int, input().split()))\n",
    "print(list_union(a,b))"
   ]
  },
  {
   "cell_type": "markdown",
   "metadata": {},
   "source": [
    "list_union는 인자로 리스트 2개를 받는다. 이 리스트를 각각 a,b 라고 한다.<br/>\n",
    "위치를 나타내는 빈 리스트 c를 만들고 a의 요소 중 b와 중복되는 요소의 위치를 c에 넣는다.<br/>\n",
    "c의 요소의 순서를 역순으로 바꾼다. 이 때 c의 요소는 큰크기 순으로 정렬된다.<br/>\n",
    "c의 요소가 가리키는 위치의 a요소를 제거한다. 예를들어 c가 2, 1 라면 a[2], a[1]이 제거된다.<br/>\n",
    "만약 c가 작은크기 순이면 앞의 요소가 제거됬을 때 뒤의 요소의 위치가 바뀌기 때문에 엉뚱한 요소가 제거될 수 있다. 그렇기 때문에 c를 앞서 큰크기 순으로 정렬한 것이다.<br/>\n",
    "중복된 요소가 제거된 a와 b를 합쳐 c에 넣는다. c의 크기는 항상 b보다 작기 때문에 따로 초기화 해주지 않아도 된다.<br/>\n",
    "c를 작은 크기순으로 정렬한다<br/>\n",
    "c를 반환한다.\n",
    "\n",
    "먼저 사용자가 입력한 두개의 수열을 각각 리스트 a,b 에 int형으로 받는다. <br/>\n",
    "list_union에 a,b를 넣고 출력한다."
   ]
  },
  {
   "cell_type": "code",
   "execution_count": 15,
   "metadata": {},
   "outputs": [
    {
     "name": "stdout",
     "output_type": "stream",
     "text": [
      "asdfz\n",
      "0 -1 -1 2 -1 3 -1 -1 -1 -1 -1 -1 -1 -1 -1 -1 -1 -1 1 -1 -1 -1 -1 -1 -1 4 "
     ]
    }
   ],
   "source": [
    "S = input()\n",
    "for alphabet in range(97,123):\n",
    "    print(S.find(chr(alphabet)), end = \" \")"
   ]
  },
  {
   "cell_type": "markdown",
   "metadata": {},
   "source": [
    "단어 S를 사용자로부터 입력받는다.<br/>\n",
    "아스키 코드에서 97~123은 영어 소문자 a~z까지를 의미한다. 이를 이용해서 모든 알파벳을 대조한다.<br/>\n",
    "S.find()를 통해 단어 S안에 a~z가 있는지 검사하고, 알파벳이 있다면 그 알파벳을 처음 찾은 위치를 출력한다. 만약 알파벳이 없다면 -1을 출력한다. end = \" \" 를 이용하여 위치를 출력할때마다 한 칸 씩 떨어뜨려준다."
   ]
  },
  {
   "cell_type": "markdown",
   "metadata": {},
   "source": [
    "![](https://github.com/thsdndud/script_assignment2/blob/master/1.PNG?raw=true)"
   ]
  },
  {
   "cell_type": "code",
   "execution_count": 58,
   "metadata": {},
   "outputs": [
    {
     "name": "stdout",
     "output_type": "stream",
     "text": [
      "2\n",
      "3 abc\n",
      "aaabbbccc\n",
      "5 /htp\n",
      "/////hhhhhtttttppppp\n"
     ]
    }
   ],
   "source": [
    "T = input()\n",
    "for t in range(int(T)):\n",
    "    R, S = input().split()\n",
    "    P = \"\"\n",
    "    for i in range(len(S)):\n",
    "        for r in range(int(R)):\n",
    "            P += S[i]\n",
    "    print(P)"
   ]
  },
  {
   "cell_type": "markdown",
   "metadata": {},
   "source": [
    "테스트 케이스의 개수(T)를 입력받는다. T의 갯수만큼 문자열 S를 입력받게 된다.<br/>\n",
    "어떤 문자열(S)을 몇 번 반복(R)할지 입력받는다. 나중에 출력될 문자열 P를 선언하고 공백으로 초기화 한다.<br/>\n",
    "S의 각 글자를 T만큼 반복해서 P에 넣는다. 모든 글자에 대해 수행했으면 P를 출력한다."
   ]
  },
  {
   "cell_type": "markdown",
   "metadata": {},
   "source": [
    "![](https://github.com/thsdndud/script_assignment2/blob/master/2.PNG?raw=true)"
   ]
  },
  {
   "cell_type": "code",
   "execution_count": 32,
   "metadata": {
    "scrolled": true
   },
   "outputs": [
    {
     "name": "stdout",
     "output_type": "stream",
     "text": [
      "506\n"
     ]
    }
   ],
   "source": [
    "import requests\n",
    "req = requests.get('http://cse.koreatech.ac.kr')\n",
    "source = req.text\n",
    "\n",
    "while source.find('<') > -1:\n",
    "    begin = source.find('<')\n",
    "    end = source.find('>',begin)\n",
    "    source = source[:begin] + source[end+1:]\n",
    "words = source.split()\n",
    "print(len(words))"
   ]
  },
  {
   "cell_type": "markdown",
   "metadata": {},
   "source": [
    "1~3행에서 url의 모든 문자열을 가져오고 이를 source에 복사한다.\n",
    "\n",
    "source내의 < 를 찾지 못할때까지 while문을 돌리는데 while문이 반복되는 동안 '<' 앞의 문자열과 '>' 뒤의 문자열을 합친다.<br/>\n",
    "그러므로 while문이 끝났을 때는 '<' 과 '>' 사이의 문자열이 모두 사라진다('<','>'도 같이 사라진다.)<br/>\n",
    "while문이 끝나고 얻은 문자열을 공백을 기준으로 구별하여 각각을 '단어' 라 한다. 이 단어들의 모든 갯수가 words가 된다.<br/>\n",
    "words를 출력한다."
   ]
  },
  {
   "cell_type": "markdown",
   "metadata": {},
   "source": [
    "문제3번과 마지막문제에서 시간을 엄청나게 소모했는데, 풀고나니 한단계 발전한것 같아서 기분이 좋았다. 문자열을 다루면서 가장 어려웠던점은 문자열 내에서 각 글자의 위치를 잘 파악하고 그 위치를 이용하여 코딩을 하는 점이였다. 그냥 코딩을 하면 중간에 항상 이해가 안되서 코드 중간 중간 print()문을 넣어서 위치를 실시간으로 파악했고, 이것이 큰 도움이 되었다. 종이에 적으면서 하는 것도 좋은 방법이지만, 이것은 바로바로 피드백이 되어서 좋았다."
   ]
  }
 ],
 "metadata": {
  "kernelspec": {
   "display_name": "Python 3",
   "language": "python",
   "name": "python3"
  },
  "language_info": {
   "codemirror_mode": {
    "name": "ipython",
    "version": 3
   },
   "file_extension": ".py",
   "mimetype": "text/x-python",
   "name": "python",
   "nbconvert_exporter": "python",
   "pygments_lexer": "ipython3",
   "version": "3.6.5"
  }
 },
 "nbformat": 4,
 "nbformat_minor": 2
}
